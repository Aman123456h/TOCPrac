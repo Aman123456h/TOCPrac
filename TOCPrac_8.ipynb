{
  "nbformat": 4,
  "nbformat_minor": 0,
  "metadata": {
    "colab": {
      "provenance": [],
      "authorship_tag": "ABX9TyPZWe6rH8ePtSi08b5I4hfX",
      "include_colab_link": true
    },
    "kernelspec": {
      "name": "python3",
      "display_name": "Python 3"
    },
    "language_info": {
      "name": "python"
    }
  },
  "cells": [
    {
      "cell_type": "markdown",
      "metadata": {
        "id": "view-in-github",
        "colab_type": "text"
      },
      "source": [
        "<a href=\"https://colab.research.google.com/github/JAmanOG/TOCPrac/blob/main/TOCPrac_8.ipynb\" target=\"_parent\"><img src=\"https://colab.research.google.com/assets/colab-badge.svg\" alt=\"Open In Colab\"/></a>"
      ]
    },
    {
      "cell_type": "code",
      "execution_count": 2,
      "metadata": {
        "colab": {
          "base_uri": "https://localhost:8080/"
        },
        "id": "4SfVQsQR0wIk",
        "outputId": "d0f36988-418e-4abb-a07a-9581e4b8bbfd"
      },
      "outputs": [
        {
          "output_type": "stream",
          "name": "stdout",
          "text": [
            "2\n"
          ]
        }
      ],
      "source": [
        "def getSubStringWithEqual012(s) :\n",
        "\n",
        "    arr = [];\n",
        "    n = len(s);\n",
        "\n",
        "    for i in range(n):\n",
        "        for j in range(i, n):\n",
        "\n",
        "            s1 = \"\"\n",
        "            for k in range(i, 1 + j):\n",
        "                s1+=s[k];\n",
        "\n",
        "            arr.append(s1);\n",
        "\n",
        "    count = 0;\n",
        "    for i in range(len(arr)):\n",
        "\n",
        "        countZero=0;\n",
        "        countOnes=0;\n",
        "        countTwo=0;\n",
        "        curs = arr[i];\n",
        "\n",
        "        for j in range(len(curs)):\n",
        "\n",
        "            if(curs[j] == '0'):\n",
        "                countZero+=1;\n",
        "            if(curs[j] == '1'):\n",
        "                countOnes+=1;\n",
        "            if(curs[j] == '2'):\n",
        "                countTwo+=1;\n",
        "        if(countZero == countOnes and countOnes == countTwo):\n",
        "            count += 1;\n",
        "\n",
        "    return count;\n",
        "\n",
        "Str = \"0102010\";\n",
        "\n",
        "print(getSubStringWithEqual012(Str));"
      ]
    }
  ]
}