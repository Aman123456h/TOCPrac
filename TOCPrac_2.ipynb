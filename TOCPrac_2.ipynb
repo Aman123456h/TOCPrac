{
  "nbformat": 4,
  "nbformat_minor": 0,
  "metadata": {
    "colab": {
      "provenance": [],
      "authorship_tag": "ABX9TyM+Nq9xc+CcZJoBlIAxspbP",
      "include_colab_link": true
    },
    "kernelspec": {
      "name": "python3",
      "display_name": "Python 3"
    },
    "language_info": {
      "name": "python"
    }
  },
  "cells": [
    {
      "cell_type": "markdown",
      "metadata": {
        "id": "view-in-github",
        "colab_type": "text"
      },
      "source": [
        "<a href=\"https://colab.research.google.com/github/JAmanOG/TOCPrac/blob/main/TOCPrac_2.ipynb\" target=\"_parent\"><img src=\"https://colab.research.google.com/assets/colab-badge.svg\" alt=\"Open In Colab\"/></a>"
      ]
    },
    {
      "cell_type": "code",
      "execution_count": 1,
      "metadata": {
        "id": "pcObLGAr1WIF"
      },
      "outputs": [],
      "source": [
        "import re"
      ]
    },
    {
      "cell_type": "code",
      "source": [
        "line = \"horses are taller than dogs\";"
      ],
      "metadata": {
        "id": "LFp3gmUJ142P"
      },
      "execution_count": 2,
      "outputs": []
    },
    {
      "cell_type": "code",
      "source": [
        "searchObj = re.search(r'(.*) are (.*?) .*',line,re.M|re.I)"
      ],
      "metadata": {
        "id": "Fe3v-2zk2B7X"
      },
      "execution_count": 3,
      "outputs": []
    },
    {
      "cell_type": "code",
      "source": [
        "if searchObj:\n",
        "  print(\"searchObj.group() :\",searchObj.group())\n",
        "  print(\"searchObj.group(1) :\",searchObj.group(1))\n",
        "  print(\"searchObj.group(2) :\",searchObj.group(2))\n",
        "else:\n",
        "  print(\"Nothing found !!\")"
      ],
      "metadata": {
        "colab": {
          "base_uri": "https://localhost:8080/"
        },
        "id": "5lZKKKBb2fBh",
        "outputId": "119cef0e-a806-420c-c004-566a6980fd2a"
      },
      "execution_count": 4,
      "outputs": [
        {
          "output_type": "stream",
          "name": "stdout",
          "text": [
            "searchObj.group() : horses are taller than dogs\n",
            "searchObj.group(1) : horses\n",
            "searchObj.group(2) : taller\n"
          ]
        }
      ]
    }
  ]
}