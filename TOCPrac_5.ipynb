{
  "nbformat": 4,
  "nbformat_minor": 0,
  "metadata": {
    "colab": {
      "provenance": [],
      "authorship_tag": "ABX9TyMebnXmNa5pL+2HN7KlRlgP",
      "include_colab_link": true
    },
    "kernelspec": {
      "name": "python3",
      "display_name": "Python 3"
    },
    "language_info": {
      "name": "python"
    }
  },
  "cells": [
    {
      "cell_type": "markdown",
      "metadata": {
        "id": "view-in-github",
        "colab_type": "text"
      },
      "source": [
        "<a href=\"https://colab.research.google.com/github/JAmanOG/TOCPrac/blob/main/TOCPrac_5.ipynb\" target=\"_parent\"><img src=\"https://colab.research.google.com/assets/colab-badge.svg\" alt=\"Open In Colab\"/></a>"
      ]
    },
    {
      "cell_type": "code",
      "execution_count": 7,
      "metadata": {
        "colab": {
          "base_uri": "https://localhost:8080/"
        },
        "id": "cjCBjK0_f-st",
        "outputId": "6a38edf2-1587-4568-8c3c-241f16bba97d"
      },
      "outputs": [
        {
          "output_type": "stream",
          "name": "stdout",
          "text": [
            "State transitions are q0->q1->q3->q4->q3->q4->q1->NO\n"
          ]
        }
      ],
      "source": [
        "def q1(s, i) :\n",
        "  print(\"q1->\", end=\"\");\n",
        "  if (i == len(s)) :\n",
        "    print(\"NO\");\n",
        "    return;\n",
        "  if (s[i] == '0') :\n",
        "     q1(s, i + 1);\n",
        "  else:\n",
        "    q3(s, i + 1);\n",
        "\n",
        "def q2(s, i):\n",
        "   print(\"q2->\", end = \"\");\n",
        "   if (i == len(s)) :\n",
        "    print(\"NO\");\n",
        "    return;\n",
        "    if (s[i]=='0'):\n",
        "      q4(s, i + 1);\n",
        "    else:\n",
        "      q2(s, i + 1);\n",
        "\n",
        "def q3(s, i):\n",
        "   print(\"q3->\", end = \"\");\n",
        "   if (i == len(s)) :\n",
        "       print(\"YES\");\n",
        "       return;\n",
        "   if (s[i] == '0') :\n",
        "    q4(s, i + 1);\n",
        "   else:\n",
        "      q2(s, i + 1);\n",
        "def q4(s, i):\n",
        "   print(\"q4->\", end = \"\");\n",
        "   if (i == len(s)) :\n",
        "    print(\"YES\");\n",
        "    return;\n",
        "\n",
        "   if (s[i] == '0') :\n",
        "      q1(s, i + 1);\n",
        "   else:\n",
        "      q3(s, i + 1);\n",
        "\n",
        "def q0(s, i):\n",
        "   print(\"q0->\", end = \"\");\n",
        "   if (i == len(s)) :\n",
        "     print(\"NO\");\n",
        "     return;\n",
        "   if (s[i] == '0') :\n",
        "      q1(s, i + 1);\n",
        "   else:\n",
        "      q2(s, i + 1);\n",
        "\n",
        "#Driver Code\n",
        "s = \"010100\";\n",
        "print(\"State transitions are\", end=\" \");\n",
        "q0(s,0);"
      ]
    }
  ]
}