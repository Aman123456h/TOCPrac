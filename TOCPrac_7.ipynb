{
  "nbformat": 4,
  "nbformat_minor": 0,
  "metadata": {
    "colab": {
      "provenance": [],
      "authorship_tag": "ABX9TyNjP9xIdF8p2BVrMmty1y4S",
      "include_colab_link": true
    },
    "kernelspec": {
      "name": "python3",
      "display_name": "Python 3"
    },
    "language_info": {
      "name": "python"
    }
  },
  "cells": [
    {
      "cell_type": "markdown",
      "metadata": {
        "id": "view-in-github",
        "colab_type": "text"
      },
      "source": [
        "<a href=\"https://colab.research.google.com/github/JAmanOG/TOCPrac/blob/main/TOCPrac_7.ipynb\" target=\"_parent\"><img src=\"https://colab.research.google.com/assets/colab-badge.svg\" alt=\"Open In Colab\"/></a>"
      ]
    },
    {
      "cell_type": "code",
      "execution_count": 6,
      "metadata": {
        "colab": {
          "base_uri": "https://localhost:8080/"
        },
        "id": "QMzmMsOycCLK",
        "outputId": "616f8f2c-266f-4a1e-b75c-1582a31b6720"
      },
      "outputs": [
        {
          "output_type": "stream",
          "name": "stdout",
          "text": [
            "5\n",
            "string not accepted => NO\n"
          ]
        }
      ],
      "source": [
        "def stateA(n):\n",
        "\tif (len(n)==0):\n",
        "\t\tprint(\"string accepted => YES\")\n",
        "\telse:\n",
        "\t\tif(n[0]=='0'):\n",
        "\t\t\tstateA(n[1:])\n",
        "\t\telif (n[0]=='1'):\n",
        "\t\t\tstateB(n[1:])\n",
        "def stateB(n):\n",
        "\tif (len(n)==0):\n",
        "\t\tprint(\"string not accepted => NO\")\n",
        "\telse:\n",
        "\t\tif(n[0]=='0'):\n",
        "\t\t\tstateA(n[1:])\n",
        "\t\telif (n[0]=='1'):\n",
        "\t\t\tstateB(n[1:])\n",
        "n=int(input())\n",
        "n = bin(n).replace(\"0b\", \"\")\n",
        "stateA(n)\n"
      ]
    }
  ]
}