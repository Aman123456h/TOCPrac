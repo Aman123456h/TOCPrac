{
  "nbformat": 4,
  "nbformat_minor": 0,
  "metadata": {
    "colab": {
      "provenance": [],
      "authorship_tag": "ABX9TyO0bltpo1ZalTOQlz7sr4BF",
      "include_colab_link": true
    },
    "kernelspec": {
      "name": "python3",
      "display_name": "Python 3"
    },
    "language_info": {
      "name": "python"
    }
  },
  "cells": [
    {
      "cell_type": "markdown",
      "metadata": {
        "id": "view-in-github",
        "colab_type": "text"
      },
      "source": [
        "<a href=\"https://colab.research.google.com/github/JAmanOG/TOCPrac/blob/main/TOCPrac_6.ipynb\" target=\"_parent\"><img src=\"https://colab.research.google.com/assets/colab-badge.svg\" alt=\"Open In Colab\"/></a>"
      ]
    },
    {
      "cell_type": "code",
      "execution_count": 2,
      "metadata": {
        "colab": {
          "base_uri": "https://localhost:8080/"
        },
        "id": "QMzmMsOycCLK",
        "outputId": "4ab4b36d-a58f-4411-be73-66f77898b07e"
      },
      "outputs": [
        {
          "output_type": "stream",
          "name": "stdout",
          "text": [
            "110\n",
            "string accepted\n"
          ]
        }
      ],
      "source": [
        "def stateA(n):\n",
        "\t#if length found 0\n",
        "\t#print not accepted\n",
        "\tif (len(n)==0):\n",
        "\t\tprint(\"string accepted\")\n",
        "\telse:\n",
        "\t\t#if at index 0\n",
        "\t\t#'0' found call\n",
        "\t\t#function stateA\n",
        "\t\tif(n[0]=='0'):\n",
        "\t\t\tstateA(n[1:])\n",
        "\t\t#else if '1' found\n",
        "\t\t#call function B.\n",
        "\t\telif (n[0]=='1'):\n",
        "\t\t\tstateB(n[1:])\n",
        "def stateB(n):\n",
        "\t#if length found 0\n",
        "\t#print not accepted\n",
        "\tif (len(n)==0):\n",
        "\t\tprint(\"string not accepted\")\n",
        "\telse:\n",
        "\t\t#if at index 0\n",
        "\t\t#'0' found call\n",
        "\t\t#function stateA\n",
        "\t\tif(n[0]=='0'):\n",
        "\t\t\tstateA(n[1:])\n",
        "\t\t#else if '1' found\n",
        "\t\t#call function B.\n",
        "\t\telif (n[0]=='1'):\n",
        "\t\t\tstateB(n[1:])\n",
        "#take number from user\n",
        "n=int(input())\n",
        "#converting number to binary\n",
        "n = bin(n).replace(\"0b\", \"\")\n",
        "#call stateA\n",
        "#to check the input\n",
        "stateA(n)\n"
      ]
    }
  ]
}