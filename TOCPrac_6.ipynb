{
  "nbformat": 4,
  "nbformat_minor": 0,
  "metadata": {
    "colab": {
      "provenance": [],
      "authorship_tag": "ABX9TyMDSlFszFsnD0jz0ub71tNu",
      "include_colab_link": true
    },
    "kernelspec": {
      "name": "python3",
      "display_name": "Python 3"
    },
    "language_info": {
      "name": "python"
    }
  },
  "cells": [
    {
      "cell_type": "markdown",
      "metadata": {
        "id": "view-in-github",
        "colab_type": "text"
      },
      "source": [
        "<a href=\"https://colab.research.google.com/github/JAmanOG/TOCPrac/blob/main/TOCPrac_6.ipynb\" target=\"_parent\"><img src=\"https://colab.research.google.com/assets/colab-badge.svg\" alt=\"Open In Colab\"/></a>"
      ]
    },
    {
      "cell_type": "code",
      "execution_count": null,
      "metadata": {
        "colab": {
          "base_uri": "https://localhost:8080/"
        },
        "id": "m6z_WxDxO05W",
        "outputId": "dd07e32c-dcd8-4f90-80ce-6e561d337676"
      },
      "outputs": [
        {
          "output_type": "stream",
          "name": "stdout",
          "text": [
            "State transitions are q1->q1->q2->q2->NO\n"
          ]
        }
      ],
      "source": [
        "def q1(s, i):\n",
        "    print(\"q1->\", end=\"\")\n",
        "    if i == len(s):\n",
        "        print(\"NO\")\n",
        "        return\n",
        "    if s[i] == '0':\n",
        "        q1(s, i + 1)\n",
        "    else:\n",
        "        q2(s, i + 1)\n",
        "\n",
        "def q2(s, i):\n",
        "    print(\"q2->\", end=\"\")\n",
        "    if i == len(s):\n",
        "        print(\"NO\")\n",
        "        return\n",
        "    if s[i] == '0':\n",
        "        q3(s, i + 1)\n",
        "    else:\n",
        "        q2(s, i + 1)\n",
        "\n",
        "def q3(s, i):\n",
        "    print(\"q3->\", end=\"\")\n",
        "    if i == len(s):\n",
        "        print(\"YES\")\n",
        "        return\n",
        "    if s[i] == '0':\n",
        "        q1(s, i + 1)\n",
        "    else:\n",
        "        q4(s, i + 1)\n",
        "\n",
        "def q4(s, i):\n",
        "    print(\"q4->\", end=\"\")\n",
        "    if i == len(s):\n",
        "        print(\"YES\")\n",
        "        return\n",
        "    if s[i] == '0':\n",
        "        q3(s, i + 1)\n",
        "    else:\n",
        "        q2(s, i + 1)\n",
        "\n",
        "# Driver Code\n",
        "s = \"0111\"\n",
        "print(\"State transitions are\", end=\" \")\n",
        "q1(s, 0)\n"
      ]
    }
  ]
}