{
  "nbformat": 4,
  "nbformat_minor": 0,
  "metadata": {
    "colab": {
      "provenance": [],
      "authorship_tag": "ABX9TyP8U69H4aD7X0tIIkmKvtre",
      "include_colab_link": true
    },
    "kernelspec": {
      "name": "python3",
      "display_name": "Python 3"
    },
    "language_info": {
      "name": "python"
    }
  },
  "cells": [
    {
      "cell_type": "markdown",
      "metadata": {
        "id": "view-in-github",
        "colab_type": "text"
      },
      "source": [
        "<a href=\"https://colab.research.google.com/github/JAmanOG/TOCPrac/blob/main/TOCPrac_9.ipynb\" target=\"_parent\"><img src=\"https://colab.research.google.com/assets/colab-badge.svg\" alt=\"Open In Colab\"/></a>"
      ]
    },
    {
      "cell_type": "code",
      "execution_count": 10,
      "metadata": {
        "colab": {
          "base_uri": "https://localhost:8080/"
        },
        "id": "SHPW7O_nt7zP",
        "outputId": "5b85e4d0-b0b5-410e-95f7-d9ca6273c21a"
      },
      "outputs": [
        {
          "output_type": "stream",
          "name": "stdout",
          "text": [
            "7\n"
          ]
        }
      ],
      "source": [
        "def countSubstring(S, n) :\n",
        "    ans = 0;\n",
        "    i = 0;\n",
        "    while (i < n) :\n",
        "        cnt0 = 0; cnt1 = 0;\n",
        "        if (S[i] == '0') :\n",
        "            while (i < n and S[i] == '0') :\n",
        "                cnt0 += 1;\n",
        "                i += 1;\n",
        "            j = i;\n",
        "            while (j < n and S[j] == '1') :\n",
        "                cnt1 += 1;\n",
        "                j += 1;\n",
        "        else :\n",
        "            while (i < n and S[i] == '1') :\n",
        "                cnt1 += 1;\n",
        "                i += 1;\n",
        "            j = i;\n",
        "            while (j < n and S[j] == '0') :\n",
        "                cnt0 += 1;\n",
        "                j += 1;\n",
        "        ans += min(cnt0, cnt1);\n",
        "    # Return answer\n",
        "    return ans;\n",
        "# Driver code\n",
        "if __name__ == \"__main__\" :\n",
        "    S = \"0001110010\";\n",
        "    n = len(S);\n",
        "    print(countSubstring(S, n));\n",
        "\n"
      ]
    },
    {
      "cell_type": "code",
      "source": [
        "cnt = 0\n",
        "def count_zero(s: str):\n",
        "    global cnt\n",
        "    for i in range(len(s)):\n",
        "        div = int(s[i])\n",
        "        if div == 0:\n",
        "            cnt += 1\n",
        "    print(cnt)\n",
        "s = \"101101\"\n",
        "count_zero(s)"
      ],
      "metadata": {
        "id": "B-m165tK00Uz",
        "outputId": "bdef21e7-c955-4e70-9e8f-05f47523268a",
        "colab": {
          "base_uri": "https://localhost:8080/"
        }
      },
      "execution_count": 11,
      "outputs": [
        {
          "output_type": "stream",
          "name": "stdout",
          "text": [
            "2\n"
          ]
        }
      ]
    }
  ]
}