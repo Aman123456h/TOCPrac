{
  "nbformat": 4,
  "nbformat_minor": 0,
  "metadata": {
    "colab": {
      "provenance": [],
      "authorship_tag": "ABX9TyMWjQ+qNOf05/5BCQc5DqED",
      "include_colab_link": true
    },
    "kernelspec": {
      "name": "python3",
      "display_name": "Python 3"
    },
    "language_info": {
      "name": "python"
    }
  },
  "cells": [
    {
      "cell_type": "markdown",
      "metadata": {
        "id": "view-in-github",
        "colab_type": "text"
      },
      "source": [
        "<a href=\"https://colab.research.google.com/github/JAmanOG/TOCPrac/blob/main/Prac3.ipynb\" target=\"_parent\"><img src=\"https://colab.research.google.com/assets/colab-badge.svg\" alt=\"Open In Colab\"/></a>"
      ]
    },
    {
      "cell_type": "code",
      "execution_count": 2,
      "metadata": {
        "id": "Mv7j0XBzy4X2"
      },
      "outputs": [],
      "source": [
        "def printArray(arr,size):\n",
        "  for i in range(size):\n",
        "    print(arr[i],end=\" \")\n",
        "  print()\n",
        "  return"
      ]
    },
    {
      "cell_type": "code",
      "source": [
        "def getSuccessor(arr,k,n):\n",
        "  p = k - 1\n",
        "  while (arr[p] == n and 0 <= p < k):\n",
        "    p -= 1\n",
        "    if (p<0):\n",
        "      return 0\n",
        "\n",
        "    arr[p] = arr[p] + 1\n",
        "    i = p + 1\n",
        "    while(i<k):\n",
        "      arr[i]= 1\n",
        "      i+=1\n",
        "      return 1"
      ],
      "metadata": {
        "id": "_vT-QhwKzyrb"
      },
      "execution_count": 3,
      "outputs": []
    },
    {
      "cell_type": "code",
      "source": [
        "def printSequence(n,k):\n",
        "  arr = [0] * k\n",
        "  for i in range(k):\n",
        "    arr[i] = 1\n",
        "  while(1):\n",
        "    printArray(arr,k)\n",
        "    if (getSuccessor(arr,k,n)==0):\n",
        "      break\n",
        "    return\n"
      ],
      "metadata": {
        "id": "APcNj75_02Nn"
      },
      "execution_count": 4,
      "outputs": []
    },
    {
      "cell_type": "code",
      "source": [
        "n= 4\n",
        "k=2\n",
        "printSequence(n,k)"
      ],
      "metadata": {
        "colab": {
          "base_uri": "https://localhost:8080/"
        },
        "id": "C8VwaFll1j32",
        "outputId": "4bc04b84-9c23-40ce-d0e8-64c8f703d280"
      },
      "execution_count": 5,
      "outputs": [
        {
          "output_type": "stream",
          "name": "stdout",
          "text": [
            "1 1 \n"
          ]
        }
      ]
    },
    {
      "cell_type": "code",
      "source": [],
      "metadata": {
        "id": "rAoCJ8tM1sSe"
      },
      "execution_count": null,
      "outputs": []
    }
  ]
}